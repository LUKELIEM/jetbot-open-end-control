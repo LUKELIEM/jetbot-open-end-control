{
 "cells": [
  {
   "cell_type": "code",
   "execution_count": 1,
   "metadata": {},
   "outputs": [],
   "source": [
    "from jetbot import Robot\n",
    "import time\n",
    "robot = Robot()\n"
   ]
  },
  {
   "cell_type": "markdown",
   "metadata": {},
   "source": [
    "## Calibration Results"
   ]
  },
  {
   "cell_type": "code",
   "execution_count": 1,
   "metadata": {},
   "outputs": [],
   "source": [
    "# Forward Motion\n",
    "drive_time = [0.5, 1, 1.5, 2, 2.5, 3, 3.5, 4]\n",
    "forward_distance = [0.343,0.572,0.800,0.991,1.207,1.391,1.613,1.842]\n",
    "\n",
    "# Rotation in Place\n",
    "rotation_time = [0.5, 1, 1.5, 2, 2.5, 3]\n",
    "rotate_right_angle = [1.963,3.927,6.087,8.639,10.603,12.763]\n",
    "rotate_right_anglular_speed = [3.927, 3.927, 4.058, 4.320, 4.241, 4.254]\n",
    "rotate_left_angle = [1.963,4.320,6.676,8.639,10.996,13.352]    \n",
    "rotate_left_anglular_speed = [3.927, 4.320, 4.451, 4.320, 4.398, 4.451]"
   ]
  },
  {
   "cell_type": "markdown",
   "metadata": {},
   "source": [
    "## Foward and Rotate-in-place Procedures "
   ]
  },
  {
   "cell_type": "code",
   "execution_count": 2,
   "metadata": {},
   "outputs": [],
   "source": [
    "# Robot motion is primarily driven by motor on-time; speed is hard-set at 0.3\n",
    "\n",
    "def forward(Rtime):\n",
    "\n",
    "    robot.set_motors(0.3, 0.3)\n",
    "    time.sleep(Rtime)\n",
    "    robot.stop()\n",
    "    \n",
    "    return\n",
    "\n",
    "def rotate_left_2wheels(Rtime):\n",
    "    \n",
    "    robot.set_motors(-0.3, 0.3)\n",
    "    time.sleep(Rtime)\n",
    "    robot.stop()\n",
    "    \n",
    "    return\n",
    "\n",
    "def rotate_right_2wheels(Rtime):\n",
    "    \n",
    "    robot.set_motors(0.3, -0.3)\n",
    "    time.sleep(Rtime)\n",
    "    robot.stop()\n",
    "    \n",
    "    return\n",
    "\n",
    "# Procedures to convert desired turn angles and forward distances into motor on-time\n",
    "\n",
    "def right_rotate_time(angle):\n",
    "    \n",
    "    time_lower = 0\n",
    "    angle_lower = 0\n",
    "    angular_speed_lower = 0\n",
    "    rotate_time = 0\n",
    "\n",
    "    for i, time_upper in enumerate(rotation_time):\n",
    "    \n",
    "        # print (i, time_upper)\n",
    "\n",
    "        if angle < rotate_right_angle[i]:\n",
    "            angle_upper = rotate_right_angle[i]\n",
    "            angular_speed_upper = rotate_right_anglular_speed[i]\n",
    "\n",
    "            rotate_time = time_lower + (angle - angle_lower)/(angle_upper - angle_lower) \\\n",
    "                *(time_upper-time_lower)\n",
    "            print(time_lower, angle_upper, angle_lower, rotate_time)\n",
    "            \n",
    "            break\n",
    "        else:\n",
    "            time_lower = rotation_time[i]\n",
    "            angle_lower = rotate_right_angle[i]\n",
    "            angular_speed_lower = rotate_right_anglular_speed[i]\n",
    "    \n",
    "    if rotate_time is 0:\n",
    "        rotate_time = rotate_angle/angular_speed_lower\n",
    "        \n",
    "    return rotate_time\n",
    "\n",
    "def left_rotate_time(angle):\n",
    "    \n",
    "    time_lower = 0\n",
    "    angle_lower = 0\n",
    "    angular_speed_lower = 0\n",
    "    rotate_time = 0\n",
    "\n",
    "    for i, time_upper in enumerate(rotation_time):\n",
    "    \n",
    "        # print (i, time_upper)\n",
    "\n",
    "        if angle < rotate_left_angle[i]:\n",
    "            angle_upper = rotate_left_angle[i]\n",
    "            angular_speed_upper = rotate_left_anglular_speed[i]\n",
    "\n",
    "            rotate_time = time_lower + (angle - angle_lower)/(angle_upper - angle_lower) \\\n",
    "                *(time_upper-time_lower)\n",
    "            print(time_lower, angle_upper, angle_lower, rotate_time)\n",
    "            \n",
    "            break\n",
    "        else:\n",
    "            time_lower = rotation_time[i]\n",
    "            angle_lower = rotate_left_angle[i]\n",
    "            angular_speed_lower = rotate_left_anglular_speed[i]\n",
    "    \n",
    "    if rotate_time is 0:\n",
    "        rotate_time = rotate_angle/angular_speed_lower\n",
    "        \n",
    "    return rotate_time\n",
    "\n",
    "def forward_time(distance):\n",
    "    \n",
    "    time_lower = 0\n",
    "    distance_lower = 0\n",
    "    motor_time = 0\n",
    "\n",
    "    for i, time_upper in enumerate(drive_time):\n",
    "    \n",
    "        # print (i, time_upper)\n",
    "\n",
    "        if distance < forward_distance[i]:\n",
    "            distance_upper = forward_distance[i]\n",
    "\n",
    "            motor_time = time_lower + (distance - distance_lower)/(distance_upper - distance_lower) \\\n",
    "                *(time_upper-time_lower)\n",
    "            print(time_lower, distance_upper, distance_lower, motor_time)\n",
    "            \n",
    "            break\n",
    "        else:\n",
    "            time_lower = drive_time[i]\n",
    "            distance_lower = forward_distance[i]\n",
    "    \n",
    "    if motor_time is 0:\n",
    "        motor_time = 4\n",
    "        \n",
    "    return motor_time"
   ]
  },
  {
   "cell_type": "markdown",
   "metadata": {},
   "source": [
    "## (0,0,0) --> (0,1,0)"
   ]
  },
  {
   "cell_type": "code",
   "execution_count": 11,
   "metadata": {},
   "outputs": [
    {
     "name": "stdout",
     "output_type": "stream",
     "text": [
      "2 1.207 0.991 2.0208333333333335\n"
     ]
    }
   ],
   "source": [
    "distance = 1\n",
    "forward(forward_time(distance))\n",
    "time.sleep(2)\n"
   ]
  },
  {
   "cell_type": "markdown",
   "metadata": {},
   "source": [
    "## (0,1,0) --> (1,1,pi/2)"
   ]
  },
  {
   "cell_type": "code",
   "execution_count": 12,
   "metadata": {},
   "outputs": [
    {
     "name": "stdout",
     "output_type": "stream",
     "text": [
      "0 1.963 0 0.3998981151299032\n",
      "2 1.207 0.991 2.0208333333333335\n"
     ]
    }
   ],
   "source": [
    "rotate_angle = 3.14/2\n",
    "rotate_left_2wheels(left_rotate_time(rotate_angle))\n",
    "\n",
    "distance = 1\n",
    "forward(forward_time(distance))\n",
    "time.sleep(2)\n"
   ]
  },
  {
   "cell_type": "markdown",
   "metadata": {},
   "source": [
    "## (1,1,pi/2) --> (2,1,0)"
   ]
  },
  {
   "cell_type": "code",
   "execution_count": 13,
   "metadata": {},
   "outputs": [
    {
     "name": "stdout",
     "output_type": "stream",
     "text": [
      "0 1.963 0 0.3998981151299032\n",
      "2 1.207 0.991 2.0208333333333335\n"
     ]
    }
   ],
   "source": [
    "rotate_angle = 3.14/2\n",
    "rotate_right_2wheels(left_rotate_time(rotate_angle))\n",
    "\n",
    "distance = 1\n",
    "forward(forward_time(distance))\n",
    "time.sleep(2)"
   ]
  },
  {
   "cell_type": "markdown",
   "metadata": {},
   "source": [
    "## (2,1,0) --> (2,2,-pi/2)"
   ]
  },
  {
   "cell_type": "code",
   "execution_count": 14,
   "metadata": {},
   "outputs": [
    {
     "name": "stdout",
     "output_type": "stream",
     "text": [
      "0 1.963 0 0.3998981151299032\n",
      "2 1.207 0.991 2.0208333333333335\n",
      "0.5 4.32 1.963 0.7496817988969029\n"
     ]
    }
   ],
   "source": [
    "rotate_angle = 3.14/2\n",
    "rotate_left_2wheels(left_rotate_time(rotate_angle))\n",
    "\n",
    "distance = 1\n",
    "forward(forward_time(distance))\n",
    "\n",
    "rotate_angle = 3.14\n",
    "rotate_left_2wheels(left_rotate_time(rotate_angle))\n",
    "\n",
    "\n"
   ]
  },
  {
   "cell_type": "markdown",
   "metadata": {},
   "source": [
    "## (2,2,-pi/2) --> (1,1,-pi/4)"
   ]
  },
  {
   "cell_type": "code",
   "execution_count": 15,
   "metadata": {},
   "outputs": [
    {
     "name": "stdout",
     "output_type": "stream",
     "text": [
      "0 1.963 0 0.1999490575649516\n",
      "3 1.613 1.391 3.02027027027027\n",
      "0 1.963 0 0.3998981151299032\n"
     ]
    }
   ],
   "source": [
    "rotate_angle = 3.14/4\n",
    "rotate_right_2wheels(right_rotate_time(rotate_angle))\n",
    "\n",
    "distance = 1.4\n",
    "forward(forward_time(distance))\n",
    "\n",
    "rotate_angle = 3.14/2\n",
    "rotate_left_2wheels(left_rotate_time(rotate_angle))\n"
   ]
  },
  {
   "cell_type": "markdown",
   "metadata": {},
   "source": [
    "## (1,1,-pi/4) --> (0,0,0)"
   ]
  },
  {
   "cell_type": "code",
   "execution_count": 16,
   "metadata": {},
   "outputs": [
    {
     "name": "stdout",
     "output_type": "stream",
     "text": [
      "0 1.963 0 0.3998981151299032\n",
      "3 1.613 1.391 3.02027027027027\n",
      "0.5 4.32 1.963 0.5831565549427238\n"
     ]
    }
   ],
   "source": [
    "rotate_angle = 3.14/2\n",
    "rotate_right_2wheels(left_rotate_time(rotate_angle))\n",
    "\n",
    "distance = 1.4\n",
    "forward(forward_time(distance))\n",
    "\n",
    "rotate_angle = 3.14*3/4\n",
    "rotate_left_2wheels(left_rotate_time(rotate_angle))"
   ]
  },
  {
   "cell_type": "markdown",
   "metadata": {},
   "source": [
    "Move forward 1 meter."
   ]
  },
  {
   "cell_type": "code",
   "execution_count": 55,
   "metadata": {},
   "outputs": [],
   "source": [
    "robot.stop()"
   ]
  }
 ],
 "metadata": {
  "kernelspec": {
   "display_name": "Python 3",
   "language": "python",
   "name": "python3"
  },
  "language_info": {
   "codemirror_mode": {
    "name": "ipython",
    "version": 3
   },
   "file_extension": ".py",
   "mimetype": "text/x-python",
   "name": "python",
   "nbconvert_exporter": "python",
   "pygments_lexer": "ipython3",
   "version": "3.6.9"
  }
 },
 "nbformat": 4,
 "nbformat_minor": 4
}
